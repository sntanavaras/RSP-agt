{
 "cells": [
  {
   "cell_type": "code",
   "execution_count": 337,
   "metadata": {},
   "outputs": [],
   "source": [
    "from gurobipy import *\n",
    "import numpy as np"
   ]
  },
  {
   "cell_type": "code",
   "execution_count": 338,
   "metadata": {},
   "outputs": [],
   "source": [
    "class RSP_conj:\n",
    "    \n",
    "    def __init__(self):\n",
    "        return\n",
    "    \n",
    "    def prog(self):\n",
    "        \n",
    "        options = ['R', 'S', 'P']\n",
    "        m = Model(\"RSP-Program\")\n",
    "        # we will maximize the slack vars in the strict inequalities\n",
    "        m.setAttr(\"ModelSense\", -1)\n",
    "        # allow non-convex quadratic constraints\n",
    "        m.setParam(\"NonConvex\", 2)\n",
    "        \n",
    "        ## decision variables\n",
    "        \n",
    "        # the player's distribution\n",
    "        p = m.addVars(options, vtype = GRB.CONTINUOUS, name = 'p')\n",
    "        \n",
    "        # the opponent distribution\n",
    "        p_op = m.addVars(options, vtype = GRB.CONTINUOUS, name = 'p*')\n",
    "        \n",
    "        # vars for the strict inequalitys\n",
    "        epsilon = m.addVars(['c','b'], vtype = GRB.CONTINUOUS, name = 'epsilon', obj = [10.0,1.0])\n",
    "        \n",
    "        # the strategy where the player picks an option randomly\n",
    "        random_strategy = {o: 1/3 for o in options}\n",
    "\n",
    "        ## constraints\n",
    "        \n",
    "        # prob dist constraints \n",
    "        m.addConstr(quicksum(p[i] for i in options) == 1)\n",
    "        m.addConstr(p_op['S'] == 0)        \n",
    "        m.addConstr(quicksum(p_op[i] for i in options) == 1)\n",
    "        \n",
    "        # aux vars to handle abs value in the tv constr\n",
    "        d_p = m.addVars(options, vtype = GRB.CONTINUOUS, lb = - GRB.INFINITY, name = 'd_p')\n",
    "        d_op = m.addVars(options, vtype = GRB.CONTINUOUS, lb = - GRB.INFINITY, name = 'd_op')\n",
    "        a_p = m.addVars(options, vtype = GRB.CONTINUOUS, lb = - GRB.INFINITY, name = 'a_p')\n",
    "        a_op = m.addVars(options, vtype = GRB.CONTINUOUS, lb = - GRB.INFINITY, name = 'a_op')\n",
    "        # the total variation distance between the player's strategy and the opponent's must be less the random strategy and the opponent's\n",
    "        m.addConstrs(d_p[i] == p[i] - p_op[i] for i in options)\n",
    "        m.addConstrs(a_p[i] == abs_(d_p[i]) for i in options)\n",
    "        m.addConstrs(d_op[i] == random_strategy[i] - p_op[i] for i in options)\n",
    "        m.addConstrs(a_op[i] == abs_(d_op[i]) for i in options)\n",
    "        m.addConstr(quicksum(a_p[i] for i in options) + 0.01  <= quicksum(a_op[i] for i in options))\n",
    "        \n",
    "        # l2 norm constraint\n",
    "        m.addConstr(quicksum((p[i] - p_op[i])*(p[i] - p_op[i]) for i in options) + 0.01 <= quicksum((1/3 - p_op[i])*(1/3 - p_op[i]) for i in options))\n",
    "        \n",
    "        # the utility for the cyclic response must be negative\n",
    "        x = m.addVars(options, vtype = GRB.CONTINUOUS, lb = - GRB.INFINITY, name = 'x')\n",
    "        m.addConstr(x['R'] == p_op['R']-p_op['S'])\n",
    "        m.addConstr(x['S'] == p_op['S']-p_op['P'])\n",
    "        m.addConstr(x['P'] == p_op['P']-p_op['R'])\n",
    "        m.addQConstr(p['R']*x['R'] + p['S']*x['S'] + p['P']*x['P']  + epsilon['c'] <= 0)\n",
    "        \n",
    "        # the utility for best response must be negative \n",
    "        indic = m.addVars(options, vtype = GRB.BINARY, name = 'i')\n",
    "        \n",
    "        z = m.addVar(vtype = GRB.CONTINUOUS, name = 'z')\n",
    "        m.addConstr(z >= p['S'] - p['P']) \n",
    "        m.addConstr(z >= p['P'] - p['R'])\n",
    "        m.addConstr(z >= p['R'] - p['S'])\n",
    "        m.addConstr((indic['R'] == 1) >> (z == p['S'] - p['P']))\n",
    "        m.addConstr((indic['S'] == 1) >> (z == p['P'] - p['R']))\n",
    "        m.addConstr((indic['P'] == 1) >> (z == p['R'] - p['S']))\n",
    "        \n",
    "        m.addConstr(quicksum(indic[i] for i in options) == 1)\n",
    "        \n",
    "        m.addQConstr(indic['R']*x['S'] + indic['S']*x['P'] + indic['P']*x['R']  + epsilon['b'] <= 0)\n",
    "        \n",
    "        ## solve\n",
    "        m.optimize()\n",
    "        \n",
    "        m.setParam(\"SolutionNumber\", 2)\n",
    "                   \n",
    "        self.solution = m\n",
    "        return"
   ]
  },
  {
   "cell_type": "code",
   "execution_count": 339,
   "metadata": {},
   "outputs": [
    {
     "name": "stdout",
     "output_type": "stream",
     "text": [
      "Changed value of parameter NonConvex to 2\n",
      "   Prev: -1  Min: -1  Max: 2  Default: -1\n",
      "Gurobi Optimizer version 9.0.1 build v9.0.1rc0 (linux64)\n",
      "Optimize a model with 17 rows, 27 columns and 49 nonzeros\n",
      "Model fingerprint: 0x088e377c\n",
      "Model has 3 quadratic constraints\n",
      "Model has 9 general constraints\n",
      "Variable types: 24 continuous, 3 integer (3 binary)\n",
      "Coefficient statistics:\n",
      "  Matrix range     [1e+00, 1e+00]\n",
      "  QMatrix range    [1e+00, 2e+00]\n",
      "  QLMatrix range   [7e-01, 1e+00]\n",
      "  Objective range  [1e+00, 1e+01]\n",
      "  Bounds range     [1e+00, 1e+00]\n",
      "  RHS range        [1e-02, 1e+00]\n",
      "  QRHS range       [3e-01, 3e-01]\n",
      "Presolve added 9 rows and 4 columns\n",
      "Presolve time: 0.00s\n",
      "Presolved: 42 rows, 38 columns, 111 nonzeros\n",
      "Presolved model has 3 SOS constraint(s)\n",
      "Presolved model has 1 quadratic constraint(s)\n",
      "Presolved model has 4 bilinear constraint(s)\n",
      "Variable types: 27 continuous, 11 integer (11 binary)\n",
      "\n",
      "Root relaxation: objective 1.100000e+01, 29 iterations, 0.00 seconds\n",
      "\n",
      "    Nodes    |    Current Node    |     Objective Bounds      |     Work\n",
      " Expl Unexpl |  Obj  Depth IntInf | Incumbent    BestBd   Gap | It/Node Time\n",
      "\n",
      "     0     0   11.00000    0   13          -   11.00000      -     -    0s\n",
      "     0     0   10.97481    0   15          -   10.97481      -     -    0s\n",
      "     0     0   10.41095    0   15          -   10.41095      -     -    0s\n",
      "     0     0    5.30091    0   14          -    5.30091      -     -    0s\n",
      "     0     0    5.11528    0   14          -    5.11528      -     -    0s\n",
      "     0     0    4.89127    0   14          -    4.89127      -     -    0s\n",
      "     0     0    4.52185    0   14          -    4.52185      -     -    0s\n",
      "     0     0    4.32726    0   14          -    4.32726      -     -    0s\n",
      "     0     0    4.24903    0   15          -    4.24903      -     -    0s\n",
      "     0     0    4.24404    0   14          -    4.24404      -     -    0s\n",
      "     0     0    4.24156    0   14          -    4.24156      -     -    0s\n",
      "     0     0    4.24020    0   14          -    4.24020      -     -    0s\n",
      "     0     0    4.24020    0   14          -    4.24020      -     -    0s\n",
      "     0     2    4.24020    0   14          -    4.24020      -     -    0s\n",
      "*   23    14               5       0.5207553    1.23299   137%   4.7    0s\n",
      "*   51    19              11       0.5289828    0.55444  4.81%   3.1    0s\n",
      "*   53    19               9       0.5292173    0.55444  4.77%   3.0    0s\n",
      "*   74    15               7       0.5295081    0.54038  2.05%   2.5    0s\n",
      "*   90    17               9       0.5295106    0.54038  2.05%   2.2    0s\n",
      "*  108    17              10       0.5295131    0.54038  2.05%   1.9    0s\n",
      "*  138    14              12       0.5295133    0.54038  2.05%   1.6    0s\n",
      "*  169     5              19       0.5295146    0.52961  0.02%   1.3    0s\n",
      "\n",
      "Cutting planes:\n",
      "  Gomory: 1\n",
      "  RLT: 1\n",
      "\n",
      "Explored 192 nodes (289 simplex iterations) in 0.17 seconds\n",
      "Thread count was 8 (of 8 available processors)\n",
      "\n",
      "Solution count 7: 0.529515 0.529513 0.529513 ... 0.520755\n",
      "\n",
      "Optimal solution found (tolerance 1.00e-04)\n",
      "Warning: max constraint violation (2.2992e-06) exceeds tolerance\n",
      "Best objective 5.295145922169e-01, best bound 5.295226496584e-01, gap 0.0015%\n"
     ]
    }
   ],
   "source": [
    "example = RSP_conj()\n",
    "example.prog()"
   ]
  },
  {
   "cell_type": "code",
   "execution_count": 340,
   "metadata": {},
   "outputs": [
    {
     "name": "stdout",
     "output_type": "stream",
     "text": [
      "Oracle Distribution - Rock: 0.276785, Scissors: 0.256537, Papper: 0.466677\n",
      "Opponent True Distribution - Rock: 0.605119, Scissors: 0, Papper: 0.394881\n",
      "Best response utility: -0.21023753692945468\n",
      "Cyclic response utility: -0.031926803198328316\n"
     ]
    }
   ],
   "source": [
    "print('Oracle Distribution - Rock: %g, Scissors: %g, Papper: %g' % \n",
    "      tuple([example.solution.getVarByName('p[%s]' % i).X for i in ['R','S','P']]))\n",
    "\n",
    "print('Opponent True Distribution - Rock: %g, Scissors: %g, Papper: %g' % \n",
    "      tuple([example.solution.getVarByName('p*[%s]' % i).X for i in ['R','S','P']]))\n",
    "\n",
    "\n",
    "utility = example.solution.getVarByName('i[R]').X*(example.solution.getVarByName('p*[S]').X- example.solution.getVarByName('p*[P]').X) \\\n",
    "+ example.solution.getVarByName('i[S]').X*(example.solution.getVarByName('p*[P]').X- example.solution.getVarByName('p*[R]').X) \\\n",
    "+ example.solution.getVarByName('i[P]').X*(example.solution.getVarByName('p*[R]').X- example.solution.getVarByName('p*[S]').X)\n",
    "\n",
    "print('Best response utility: ' + str(utility))\n",
    "\n",
    "utility = example.solution.getVarByName('p[R]').X*(example.solution.getVarByName('p*[R]').X- example.solution.getVarByName('p*[S]').X) \\\n",
    "+ example.solution.getVarByName('p[S]').X*(example.solution.getVarByName('p*[S]').X- example.solution.getVarByName('p*[P]').X) \\\n",
    "+ example.solution.getVarByName('p[P]').X*(example.solution.getVarByName('p*[P]').X- example.solution.getVarByName('p*[R]').X)\n",
    "\n",
    "print('Cyclic response utility: ' + str(utility))"
   ]
  },
  {
   "cell_type": "code",
   "execution_count": 341,
   "metadata": {},
   "outputs": [
    {
     "name": "stdout",
     "output_type": "stream",
     "text": [
      "p - p* : tv 0.6566666666666666\n",
      "1/3 - p* : tv 0.6666666666666667\n",
      "0.01000000000000012\n"
     ]
    }
   ],
   "source": [
    "result1 = abs(example.solution.getVarByName('p[R]').X- example.solution.getVarByName('p*[R]').X) \\\n",
    "+ abs(example.solution.getVarByName('p[S]').X- example.solution.getVarByName('p*[S]').X) \\\n",
    "+ abs(example.solution.getVarByName('p[P]').X- example.solution.getVarByName('p*[P]').X) \n",
    "print('p - p* : tv ' + str(result1))\n",
    "result2 = abs(1/3 - example.solution.getVarByName('p*[R]').X) \\\n",
    "+ abs(1/3 - example.solution.getVarByName('p*[S]').X) \\\n",
    "+ abs(1/3 - example.solution.getVarByName('p*[P]').X) \n",
    "print('1/3 - p* : tv ' + str(result2))\n",
    "print(result2 - result1)"
   ]
  },
  {
   "cell_type": "code",
   "execution_count": 342,
   "metadata": {},
   "outputs": [
    {
     "name": "stdout",
     "output_type": "stream",
     "text": [
      "p - p* : l2 0.17876887683052128\n",
      "1/3 - p* : l2 0.1887665776337486\n",
      "0.009997700803227316\n"
     ]
    }
   ],
   "source": [
    "result1 = (example.solution.getVarByName('p[R]').X- example.solution.getVarByName('p*[R]').X)**2 \\\n",
    "+ (example.solution.getVarByName('p[S]').X- example.solution.getVarByName('p*[S]').X)**2 \\\n",
    "+ (example.solution.getVarByName('p[P]').X- example.solution.getVarByName('p*[P]').X)**2 \n",
    "print('p - p* : l2 ' + str(result1))\n",
    "result2 = (1/3 - example.solution.getVarByName('p*[R]').X)**2 \\\n",
    "+ (1/3 - example.solution.getVarByName('p*[S]').X)**2 \\\n",
    "+ (1/3 - example.solution.getVarByName('p*[P]').X)**2 \n",
    "print('1/3 - p* : l2 ' + str(result2))\n",
    "print(result2 - result1)"
   ]
  },
  {
   "cell_type": "code",
   "execution_count": 343,
   "metadata": {},
   "outputs": [
    {
     "name": "stdout",
     "output_type": "stream",
     "text": [
      "p[R] = 0.276785\n",
      "p[S] = 0.256537\n",
      "p[P] = 0.466677\n",
      "p*[R] = 0.605119\n",
      "p*[S] = 0\n",
      "p*[P] = 0.394881\n",
      "epsilon[c] = 0.0319277\n",
      "epsilon[b] = 0.210238\n",
      "d_p[R] = -0.328333\n",
      "d_p[S] = 0.256537\n",
      "d_p[P] = 0.0717959\n",
      "d_op[R] = -0.271785\n",
      "d_op[S] = 0.333333\n",
      "d_op[P] = -0.0615479\n",
      "a_p[R] = 0.328333\n",
      "a_p[S] = 0.256537\n",
      "a_p[P] = 0.0717959\n",
      "a_op[R] = 0.271785\n",
      "a_op[S] = 0.333333\n",
      "a_op[P] = 0.0615479\n",
      "x[R] = 0.605119\n",
      "x[S] = -0.394881\n",
      "x[P] = -0.210238\n",
      "i[R] = -0\n",
      "i[S] = 1\n",
      "i[P] = -0\n",
      "z = 0.189892\n"
     ]
    }
   ],
   "source": [
    "for v in example.solution.getVars():\n",
    "    print('%s = %g' % (v.varName, v.x))"
   ]
  },
  {
   "cell_type": "code",
   "execution_count": 344,
   "metadata": {},
   "outputs": [
    {
     "name": "stdout",
     "output_type": "stream",
     "text": [
      "Oracle Distribution - Rock: 0.276036, Scissors: 0.255683, Papper: 0.468281\n",
      "Opponent True Distribution - Rock: 0.604369, Scissors: 0, Papper: 0.395631\n",
      "Best response utility: -0.20873862228793444\n",
      "Cyclic response utility: -0.032076753239038455\n",
      "p - p* : l2 norm 0.1784547434589634\n",
      "1/3 - p* : l2 norm 0.18845257288399914\n",
      "0.009997829425035742\n"
     ]
    }
   ],
   "source": [
    "# suboptimal solutions\n",
    "print('Oracle Distribution - Rock: %g, Scissors: %g, Papper: %g' % \n",
    "      tuple([example.solution.getVarByName('p[%s]' % i).Xn for i in ['R','S','P']]))\n",
    "print('Opponent True Distribution - Rock: %g, Scissors: %g, Papper: %g' % \n",
    "      tuple([example.solution.getVarByName('p*[%s]' % i).Xn for i in ['R','S','P']]))\n",
    "utility = example.solution.getVarByName('i[R]').Xn*(example.solution.getVarByName('p*[S]').Xn- example.solution.getVarByName('p*[P]').Xn) \\\n",
    "+ example.solution.getVarByName('i[S]').Xn*(example.solution.getVarByName('p*[P]').Xn- example.solution.getVarByName('p*[R]').Xn) \\\n",
    "+ example.solution.getVarByName('i[P]').Xn*(example.solution.getVarByName('p*[R]').Xn- example.solution.getVarByName('p*[S]').Xn)\n",
    "print('Best response utility: ' + str(utility))\n",
    "utility = example.solution.getVarByName('p[R]').Xn*(example.solution.getVarByName('p*[R]').Xn- example.solution.getVarByName('p*[S]').Xn) \\\n",
    "+ example.solution.getVarByName('p[S]').Xn*(example.solution.getVarByName('p*[S]').Xn- example.solution.getVarByName('p*[P]').Xn) \\\n",
    "+ example.solution.getVarByName('p[P]').Xn*(example.solution.getVarByName('p*[P]').Xn- example.solution.getVarByName('p*[R]').Xn)\n",
    "print('Cyclic response utility: ' + str(utility))\n",
    "result1 = (example.solution.getVarByName('p[R]').Xn- example.solution.getVarByName('p*[R]').Xn)**2 \\\n",
    "+ (example.solution.getVarByName('p[S]').Xn- example.solution.getVarByName('p*[S]').Xn)**2 \\\n",
    "+ (example.solution.getVarByName('p[P]').Xn- example.solution.getVarByName('p*[P]').Xn)**2 \n",
    "print('p - p* : l2 norm ' + str(result1))\n",
    "result2 = (1/3 - example.solution.getVarByName('p*[R]').Xn)**2 \\\n",
    "+ (1/3 - example.solution.getVarByName('p*[S]').Xn)**2 \\\n",
    "+ (1/3 - example.solution.getVarByName('p*[P]').Xn)**2 \n",
    "print('1/3 - p* : l2 norm ' + str(result2))\n",
    "print(result2 - result1)"
   ]
  }
 ],
 "metadata": {
  "kernelspec": {
   "display_name": "Python 3",
   "language": "python",
   "name": "python3"
  },
  "language_info": {
   "codemirror_mode": {
    "name": "ipython",
    "version": 3
   },
   "file_extension": ".py",
   "mimetype": "text/x-python",
   "name": "python",
   "nbconvert_exporter": "python",
   "pygments_lexer": "ipython3",
   "version": "3.5.2"
  }
 },
 "nbformat": 4,
 "nbformat_minor": 2
}
